{
  "nbformat": 4,
  "nbformat_minor": 0,
  "metadata": {
    "colab": {
      "provenance": [],
      "authorship_tag": "ABX9TyOrNF+e5ni7EGjEUKSGOfHJ",
      "include_colab_link": true
    },
    "kernelspec": {
      "name": "python3",
      "display_name": "Python 3"
    },
    "language_info": {
      "name": "python"
    }
  },
  "cells": [
    {
      "cell_type": "markdown",
      "metadata": {
        "id": "view-in-github",
        "colab_type": "text"
      },
      "source": [
        "<a href=\"https://colab.research.google.com/github/crashidian/RandomScriptsForCS/blob/master/SchoolFacilitiesOptionsDevelopment.ipynb\" target=\"_parent\"><img src=\"https://colab.research.google.com/assets/colab-badge.svg\" alt=\"Open In Colab\"/></a>"
      ]
    },
    {
      "cell_type": "code",
      "execution_count": 48,
      "metadata": {
        "id": "R5BiIx0rz4Pj"
      },
      "outputs": [],
      "source": [
        "import numpy as np\n",
        "import pandas as pd\n",
        "from sklearn.preprocessing import StandardScaler\n",
        "from sklearn.cluster import KMeans\n",
        "from sklearn.ensemble import RandomForestRegressor\n",
        "from sklearn.model_selection import train_test_split"
      ]
    },
    {
      "cell_type": "code",
      "source": [
        "class SchoolFacility:\n",
        "    def __init__(self, name, condition, capacity, current_enrollment, age, annual_maintenance_cost):\n",
        "        self.name = name\n",
        "        self.condition = condition  # 0-100 scale\n",
        "        self.capacity = capacity\n",
        "        self.current_enrollment = current_enrollment\n",
        "        self.age = age\n",
        "        self.annual_maintenance_cost = annual_maintenance_cost"
      ],
      "metadata": {
        "id": "kTxZbGGp0AAJ"
      },
      "execution_count": 49,
      "outputs": []
    },
    {
      "cell_type": "code",
      "source": [
        "class SchoolDistrict:\n",
        "    def __init__(self, name):\n",
        "        self.name = name\n",
        "        self.schools = []\n",
        "        self.population_growth_rate = 0.01  # 1% annual growth\n",
        "        self.bond_amount = 0"
      ],
      "metadata": {
        "id": "jdp09Kxw0Og5"
      },
      "execution_count": 50,
      "outputs": []
    },
    {
      "cell_type": "code",
      "source": [
        "class Project:\n",
        "    def __init__(self, name, school, capital_cost, annual_maintenance_impact, capacity_change, condition_improvement):\n",
        "        self.name = name\n",
        "        self.school = school\n",
        "        self.capital_cost = capital_cost\n",
        "        self.annual_maintenance_impact = annual_maintenance_impact  # Can be positive (cost increase) or negative (savings)\n",
        "        self.capacity_change = capacity_change\n",
        "        self.condition_improvement = condition_improvement"
      ],
      "metadata": {
        "id": "10S0M4mR4Yy-"
      },
      "execution_count": 51,
      "outputs": []
    },
    {
      "cell_type": "code",
      "source": [
        "class Option:\n",
        "    def __init__(self, name, projects):\n",
        "        self.name = name\n",
        "        self.projects = projects\n",
        "        self.total_capital_cost = sum(project.capital_cost for project in projects)\n",
        "        self.total_maintenance_impact = sum(project.annual_maintenance_impact for project in projects)\n",
        "        self.total_capacity_change = sum(project.capacity_change for project in projects)\n",
        "        self.average_condition_improvement = np.mean([project.condition_improvement for project in projects])"
      ],
      "metadata": {
        "id": "gnSR3QaJ4am9"
      },
      "execution_count": 52,
      "outputs": []
    },
    {
      "cell_type": "code",
      "source": [
        "class MultiFacilityPlanningSystem:\n",
        "    def __init__(self):\n",
        "        self.district = None\n",
        "        self.enrollment_model = None\n",
        "\n",
        "    def load_district_data(self, district):\n",
        "        self.district = district\n",
        "\n",
        "    def predict_future_enrollment(self, years_ahead=5):\n",
        "        X = pd.DataFrame([(school.age, school.capacity, school.condition) for school in self.district.schools],\n",
        "                         columns=['age', 'capacity', 'condition'])\n",
        "        y = pd.Series([school.current_enrollment for school in self.district.schools])\n",
        "\n",
        "        X_train, X_test, y_train, y_test = train_test_split(X, y, test_size=0.2, random_state=42)\n",
        "        self.enrollment_model = RandomForestRegressor(n_estimators=100, random_state=42)\n",
        "        self.enrollment_model.fit(X_train, y_train)\n",
        "\n",
        "        future_enrollments = []\n",
        "        for school in self.district.schools:\n",
        "            future_age = school.age + years_ahead\n",
        "            future_condition = max(0, school.condition - (2 * years_ahead))\n",
        "            future_enrollment = self.enrollment_model.predict([[future_age, school.capacity, future_condition]])[0]\n",
        "            future_enrollment *= (1 + self.district.population_growth_rate) ** years_ahead\n",
        "            future_enrollments.append(future_enrollment)\n",
        "\n",
        "        return future_enrollments\n",
        "\n",
        "    def generate_project_options(self):\n",
        "        future_enrollments = self.predict_future_enrollment()\n",
        "\n",
        "        options = []\n",
        "\n",
        "        # Option 1: Minimal Intervention\n",
        "        minimal_projects = []\n",
        "        for school, future_enrollment in zip(self.district.schools, future_enrollments):\n",
        "            if school.condition < 60:\n",
        "                minimal_projects.append(Project(f\"Essential repairs for {school.name}\", school,\n",
        "                                                capital_cost=2000000,\n",
        "                                                annual_maintenance_impact=-50000,\n",
        "                                                capacity_change=0,\n",
        "                                                condition_improvement=20))\n",
        "        options.append(Option(\"Minimal Intervention\", minimal_projects))\n",
        "\n",
        "        # Option 2: Moderate Renovation\n",
        "        moderate_projects = []\n",
        "        for school, future_enrollment in zip(self.district.schools, future_enrollments):\n",
        "            if school.condition < 75:\n",
        "                moderate_projects.append(Project(f\"Moderate renovation of {school.name}\", school,\n",
        "                                                 capital_cost=10000000,\n",
        "                                                 annual_maintenance_impact=-100000,\n",
        "                                                 capacity_change=50,\n",
        "                                                 condition_improvement=40))\n",
        "        options.append(Option(\"Moderate Renovation\", moderate_projects))\n",
        "\n",
        "        # Option 3: Comprehensive Modernization\n",
        "        comprehensive_projects = []\n",
        "        for school, future_enrollment in zip(self.district.schools, future_enrollments):\n",
        "            if future_enrollment > school.capacity or school.condition < 50:\n",
        "                comprehensive_projects.append(Project(f\"Comprehensive modernization of {school.name}\", school,\n",
        "                                                      capital_cost=25000000,\n",
        "                                                      annual_maintenance_impact=-200000,\n",
        "                                                      capacity_change=200,\n",
        "                                                      condition_improvement=80))\n",
        "        options.append(Option(\"Comprehensive Modernization\", comprehensive_projects))\n",
        "\n",
        "        # Option 4: New Construction\n",
        "        if sum(future_enrollments) > sum(school.capacity for school in self.district.schools) * 1.1:\n",
        "            new_school_project = Project(\"Construct new school\", None,\n",
        "                                         capital_cost=50000000,\n",
        "                                         annual_maintenance_impact=500000,\n",
        "                                         capacity_change=1000,\n",
        "                                         condition_improvement=100)\n",
        "            options.append(Option(\"New School Construction\", [new_school_project]))\n",
        "\n",
        "        return options\n",
        "\n",
        "    def rank_options(self, options):\n",
        "        def calculate_score(option):\n",
        "            capital_cost_score = 1 / (option.total_capital_cost / 1e6)  # Lower cost is better\n",
        "            maintenance_score = -option.total_maintenance_impact / 1e6  # Lower maintenance impact (or higher savings) is better\n",
        "            capacity_score = option.total_capacity_change / 100  # Higher capacity increase is better\n",
        "            condition_score = option.average_condition_improvement / 10  # Higher condition improvement is better\n",
        "\n",
        "            # Weighted sum of scores\n",
        "            return (capital_cost_score * 0.3 +\n",
        "                    maintenance_score * 0.2 +\n",
        "                    capacity_score * 0.3 +\n",
        "                    condition_score * 0.2)\n",
        "\n",
        "        ranked_options = sorted(options, key=calculate_score, reverse=True)\n",
        "        return ranked_options"
      ],
      "metadata": {
        "id": "pDQupXAp4fX1"
      },
      "execution_count": 53,
      "outputs": []
    },
    {
      "cell_type": "code",
      "source": [
        "def main():\n",
        "    # Create a sample school district\n",
        "    district = SchoolDistrict(\"Sample Unified School District\")\n",
        "    district.schools = [\n",
        "        SchoolFacility(\"High School A\", 65, 1500, 1400, 30, 1000000),\n",
        "        SchoolFacility(\"Middle School B\", 55, 1000, 950, 40, 800000),\n",
        "        SchoolFacility(\"Elementary School C\", 80, 600, 550, 15, 500000),\n",
        "        SchoolFacility(\"Elementary School D\", 45, 500, 480, 55, 600000),\n",
        "    ]\n",
        "    district.bond_amount = 100000000  # $100 million bond\n",
        "\n",
        "    # Initialize and run the multi-facility planning system\n",
        "    mfps = MultiFacilityPlanningSystem()\n",
        "    mfps.load_district_data(district)\n",
        "\n",
        "    options = mfps.generate_project_options()\n",
        "    ranked_options = mfps.rank_options(options)\n",
        "\n",
        "    # Print results\n",
        "    print(f\"Multi-Option Facility Planning for {district.name}\")\n",
        "    print(f\"Total Bond Amount Available: ${district.bond_amount:,}\")\n",
        "    print(\"\\nRanked Options (from most viable to least viable):\")\n",
        "\n",
        "    for i, option in enumerate(ranked_options, 1):\n",
        "        print(f\"\\n{i}. {option.name}\")\n",
        "        print(f\"   Total Capital Cost: ${option.total_capital_cost:,}\")\n",
        "        print(f\"   Annual Maintenance Impact: ${option.total_maintenance_impact:,}\")\n",
        "        print(f\"   Total Capacity Change: {option.total_capacity_change}\")\n",
        "        print(f\"   Average Condition Improvement: {option.average_condition_improvement:.2f}\")\n",
        "        print(\"   Projects:\")\n",
        "        for project in option.projects:\n",
        "            print(f\"   - {project.name}\")\n",
        "            print(f\"     Capital Cost: ${project.capital_cost:,}\")\n",
        "            print(f\"     Annual Maintenance Impact: ${project.annual_maintenance_impact:,}\")\n",
        "            print(f\"     Capacity Change: {project.capacity_change}\")\n",
        "            print(f\"     Condition Improvement: {project.condition_improvement}\")\n",
        "\n",
        "    # Provide a recommendation\n",
        "    best_option = ranked_options[0]\n",
        "    print(f\"\\nRecommendation:\")\n",
        "    print(f\"Based on the analysis, the most viable option is: {best_option.name}\")\n",
        "    print(f\"This option provides the best balance of capital costs, maintenance impact, capacity improvement, and overall condition enhancement.\")\n",
        "    if best_option.total_capital_cost > district.bond_amount:\n",
        "        print(f\"Note: This option exceeds the available bond amount by ${best_option.total_capital_cost - district.bond_amount:,}.\")\n",
        "        print(\"Consider phasing the projects or seeking additional funding sources.\")\n",
        "    else:\n",
        "        print(f\"This option is within the available bond amount, with ${district.bond_amount - best_option.total_capital_cost:,} remaining for contingencies or additional improvements.\")"
      ],
      "metadata": {
        "id": "u9ejgQmw4guI"
      },
      "execution_count": 54,
      "outputs": []
    },
    {
      "cell_type": "code",
      "source": [
        "if __name__ == \"__main__\":\n",
        "    main()"
      ],
      "metadata": {
        "colab": {
          "base_uri": "https://localhost:8080/"
        },
        "id": "bWs_zYqV4kpo",
        "outputId": "b8db2b9b-91c9-4fbb-cc00-e9acced4b5bd"
      },
      "execution_count": 55,
      "outputs": [
        {
          "output_type": "stream",
          "name": "stdout",
          "text": [
            "Multi-Option Facility Planning for Sample Unified School District\n",
            "Total Bond Amount Available: $100,000,000\n",
            "\n",
            "Ranked Options (from most viable to least viable):\n",
            "\n",
            "1. Comprehensive Modernization\n",
            "   Total Capital Cost: $50,000,000\n",
            "   Annual Maintenance Impact: $-400,000\n",
            "   Total Capacity Change: 400\n",
            "   Average Condition Improvement: 80.00\n",
            "   Projects:\n",
            "   - Comprehensive modernization of Elementary School C\n",
            "     Capital Cost: $25,000,000\n",
            "     Annual Maintenance Impact: $-200,000\n",
            "     Capacity Change: 200\n",
            "     Condition Improvement: 80\n",
            "   - Comprehensive modernization of Elementary School D\n",
            "     Capital Cost: $25,000,000\n",
            "     Annual Maintenance Impact: $-200,000\n",
            "     Capacity Change: 200\n",
            "     Condition Improvement: 80\n",
            "\n",
            "2. Moderate Renovation\n",
            "   Total Capital Cost: $30,000,000\n",
            "   Annual Maintenance Impact: $-300,000\n",
            "   Total Capacity Change: 150\n",
            "   Average Condition Improvement: 40.00\n",
            "   Projects:\n",
            "   - Moderate renovation of High School A\n",
            "     Capital Cost: $10,000,000\n",
            "     Annual Maintenance Impact: $-100,000\n",
            "     Capacity Change: 50\n",
            "     Condition Improvement: 40\n",
            "   - Moderate renovation of Middle School B\n",
            "     Capital Cost: $10,000,000\n",
            "     Annual Maintenance Impact: $-100,000\n",
            "     Capacity Change: 50\n",
            "     Condition Improvement: 40\n",
            "   - Moderate renovation of Elementary School D\n",
            "     Capital Cost: $10,000,000\n",
            "     Annual Maintenance Impact: $-100,000\n",
            "     Capacity Change: 50\n",
            "     Condition Improvement: 40\n",
            "\n",
            "3. Minimal Intervention\n",
            "   Total Capital Cost: $4,000,000\n",
            "   Annual Maintenance Impact: $-100,000\n",
            "   Total Capacity Change: 0\n",
            "   Average Condition Improvement: 20.00\n",
            "   Projects:\n",
            "   - Essential repairs for Middle School B\n",
            "     Capital Cost: $2,000,000\n",
            "     Annual Maintenance Impact: $-50,000\n",
            "     Capacity Change: 0\n",
            "     Condition Improvement: 20\n",
            "   - Essential repairs for Elementary School D\n",
            "     Capital Cost: $2,000,000\n",
            "     Annual Maintenance Impact: $-50,000\n",
            "     Capacity Change: 0\n",
            "     Condition Improvement: 20\n",
            "\n",
            "Recommendation:\n",
            "Based on the analysis, the most viable option is: Comprehensive Modernization\n",
            "This option provides the best balance of capital costs, maintenance impact, capacity improvement, and overall condition enhancement.\n",
            "This option is within the available bond amount, with $50,000,000 remaining for contingencies or additional improvements.\n"
          ]
        },
        {
          "output_type": "stream",
          "name": "stderr",
          "text": [
            "/usr/local/lib/python3.10/dist-packages/sklearn/base.py:465: UserWarning: X does not have valid feature names, but RandomForestRegressor was fitted with feature names\n",
            "  warnings.warn(\n",
            "/usr/local/lib/python3.10/dist-packages/sklearn/base.py:465: UserWarning: X does not have valid feature names, but RandomForestRegressor was fitted with feature names\n",
            "  warnings.warn(\n",
            "/usr/local/lib/python3.10/dist-packages/sklearn/base.py:465: UserWarning: X does not have valid feature names, but RandomForestRegressor was fitted with feature names\n",
            "  warnings.warn(\n",
            "/usr/local/lib/python3.10/dist-packages/sklearn/base.py:465: UserWarning: X does not have valid feature names, but RandomForestRegressor was fitted with feature names\n",
            "  warnings.warn(\n"
          ]
        }
      ]
    }
  ]
}